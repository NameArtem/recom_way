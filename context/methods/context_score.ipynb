{
 "cells": [
  {
   "cell_type": "code",
   "execution_count": null,
   "metadata": {},
   "outputs": [],
   "source": [
    "def recom_context_score(user_id, context_id, s_matrix, c_current, delta):\n",
    "    \n",
    "    # calculate cf\n",
    "    initial_pred = CF(user_id, contex_id, s_matrix)\n",
    "    \n",
    "    if context_id in r_df:\n",
    "        ...\n",
    "        # get contexts of similar users with similar context\n",
    "        l_cnx = np.array(c_profile.loc[c_profile.context_id==context_id,['user_id','context']])\n",
    "                \n",
    "        if c_current in all_cnx:\n",
    "            # find similarity of the current context and others\n",
    "            cnx_scores = np.array([[uid, cs_df[c_current][cx]] for uid,cx in l_cnx])\n",
    "\n",
    "            # filter users whose similarity bigger than delta\n",
    "            filtered_scores = cnx_scores[cnx_scores[:,1].astype(float)>delta]\n",
    "\n",
    "            # context popularity based on current\n",
    "            context_prob = len(filtered_scores) / len(cnx_scores)\n",
    "            \n",
    "        else:\n",
    "            context_prob = 1\n",
    "\n",
    "        return initial_pred * context_prob\n",
    "\n",
    "    else:\n",
    "        return initial_pred"
   ]
  },
  {
   "cell_type": "code",
   "execution_count": null,
   "metadata": {},
   "outputs": [],
   "source": []
  }
 ],
 "metadata": {
  "kernelspec": {
   "display_name": "Python 3",
   "language": "python",
   "name": "python3"
  },
  "language_info": {
   "codemirror_mode": {
    "name": "ipython",
    "version": 3
   },
   "file_extension": ".py",
   "mimetype": "text/x-python",
   "name": "python",
   "nbconvert_exporter": "python",
   "pygments_lexer": "ipython3",
   "version": "3.8.6"
  }
 },
 "nbformat": 4,
 "nbformat_minor": 4
}
