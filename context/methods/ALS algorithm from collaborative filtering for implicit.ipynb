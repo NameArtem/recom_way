{
 "cells": [
  {
   "cell_type": "code",
   "execution_count": 1,
   "metadata": {},
   "outputs": [],
   "source": [
    "import numpy as np\n",
    "import pandas as pd\n",
    "\n",
    "import seaborn as sns\n",
    "from matplotlib import pyplot as plt\n",
    "%matplotlib inline"
   ]
  },
  {
   "cell_type": "markdown",
   "metadata": {},
   "source": [
    "## Funcs"
   ]
  },
  {
   "cell_type": "code",
   "execution_count": 2,
   "metadata": {},
   "outputs": [],
   "source": [
    "# Loss function\n",
    "# C: confidence matrix\n",
    "# P: binary rating matrix\n",
    "# X: user latent matrix\n",
    "# Y: item latent matrix\n",
    "# r_lambda: regularization lambda\n",
    "# xTy: predict matrix\n",
    "# total_loss = (confidence_level * predict loss) + regularization loss\n",
    "def loss_function(C, P, xTy, X, Y, r_lambda):\n",
    "    predict_error = np.square(P - xTy)\n",
    "    confidence_error = np.sum(C * predict_error)\n",
    "    regularization = r_lambda * (np.sum(np.square(X)) + np.sum(np.square(Y)))\n",
    "    total_loss = confidence_error + regularization\n",
    "    return np.sum(predict_error), confidence_error, regularization, total_loss\n",
    "\n",
    "\n",
    "# optimization function\n",
    "# X[u] = (yTCuy + lambda*I)^-1yTCuy\n",
    "# Y[i] = (xTCix + lambda*I)^-1xTCix\n",
    "def optimize_user(X, Y, C, P, nu, nf, r_lambda):\n",
    "    yT = np.transpose(Y)\n",
    "    for u in range(nu):\n",
    "        Cu = np.diag(C[u])\n",
    "        yT_Cu_y = np.matmul(np.matmul(yT, Cu), Y)\n",
    "        lI = np.dot(r_lambda, np.identity(nf))\n",
    "        yT_Cu_pu = np.matmul(np.matmul(yT, Cu), P[u])\n",
    "        X[u] = np.linalg.solve(yT_Cu_y + lI, yT_Cu_pu)\n",
    "\n",
    "def optimize_item(X, Y, C, P, ni, nf, r_lambda):\n",
    "    xT = np.transpose(X)\n",
    "    for i in range(ni):\n",
    "        Ci = np.diag(C[:, i])\n",
    "        xT_Ci_x = np.matmul(np.matmul(xT, Ci), X)\n",
    "        lI = np.dot(r_lambda, np.identity(nf))\n",
    "        xT_Ci_pi = np.matmul(np.matmul(xT, Ci), P[:, i])\n",
    "        Y[i] = np.linalg.solve(xT_Ci_x + lI, xT_Ci_pi)"
   ]
  },
  {
   "cell_type": "markdown",
   "metadata": {},
   "source": [
    "## Preps"
   ]
  },
  {
   "cell_type": "code",
   "execution_count": 3,
   "metadata": {},
   "outputs": [],
   "source": [
    "cols = ['goods_id', 'user_id', 'rating', 'ts']\n",
    "df = pd.read_csv('All_Beauty.csv', names = cols).head(1000) # take sample as an example"
   ]
  },
  {
   "cell_type": "code",
   "execution_count": 24,
   "metadata": {},
   "outputs": [],
   "source": [
    "# r_lambda: normalization parameter\n",
    "# alpha: confidence level\n",
    "# nf: dimension of latent vector of each user and item\n",
    "# initilzed values(40, 200, 40) are the best parameters from the paper\n",
    "\n",
    "r_lambda = 50\n",
    "nf = int(df.shape[0] / 10)\n",
    "alpha = 50"
   ]
  },
  {
   "cell_type": "code",
   "execution_count": 25,
   "metadata": {},
   "outputs": [
    {
     "name": "stdout",
     "output_type": "stream",
     "text": [
      "(1000, 4)\n"
     ]
    }
   ],
   "source": [
    "# sample rating matrix\n",
    "# make sample (user x items) matrix\n",
    "# shape[0] : num of users\n",
    "# shape[1] : num of items\n",
    "\n",
    "\n",
    "\n",
    "R = pd.crosstab(index=df['user_id'],\n",
    "                columns=df['goods_id'],\n",
    "                values=df['rating'],\n",
    "                aggfunc='mean').fillna(0).values\n",
    "\n",
    "print(R.shape)"
   ]
  },
  {
   "cell_type": "code",
   "execution_count": 26,
   "metadata": {},
   "outputs": [
    {
     "name": "stdout",
     "output_type": "stream",
     "text": [
      "[[0.00721528 0.0093024  0.00210475 ... 0.0073218  0.00313148 0.00793186]\n",
      " [0.00397356 0.00310381 0.00401414 ... 0.00496681 0.00909834 0.00088446]\n",
      " [0.00869955 0.00457017 0.0030019  ... 0.00809584 0.00269439 0.003514  ]\n",
      " ...\n",
      " [0.00906954 0.00082099 0.00532161 ... 0.00322984 0.00044348 0.00972044]\n",
      " [0.00198949 0.00197912 0.00156645 ... 0.00114036 0.0057294  0.00973398]\n",
      " [0.00316959 0.00815478 0.00616094 ... 0.00318607 0.00942281 0.00709028]]\n"
     ]
    }
   ],
   "source": [
    "# latent factor matrix\n",
    "# nu: num of users (10)\n",
    "# ni: num of items (11)\n",
    "# nf: dimension of latent vector\n",
    "\n",
    "nu = R.shape[0]\n",
    "ni = R.shape[1]\n",
    "\n",
    "# initialize X and Y with very small values\n",
    "X = np.random.rand(nu, nf) * 0.01\n",
    "Y = np.random.rand(ni, nf) * 0.01\n",
    "\n",
    "print(X)"
   ]
  },
  {
   "cell_type": "code",
   "execution_count": 27,
   "metadata": {},
   "outputs": [
    {
     "name": "stdout",
     "output_type": "stream",
     "text": [
      "[[0. 0. 0. 1.]\n",
      " [0. 0. 0. 1.]\n",
      " [0. 0. 0. 1.]\n",
      " ...\n",
      " [0. 0. 0. 1.]\n",
      " [0. 0. 0. 1.]\n",
      " [0. 0. 0. 1.]]\n"
     ]
    }
   ],
   "source": [
    "# create binary raing matrix (convert original rating matrix R)\n",
    "# Pui = 1 if Rui > 0\n",
    "# Pui = 0 if Rui = 0\n",
    "\n",
    "P = np.copy(R)\n",
    "P[P > 0] = 1\n",
    "print(P)"
   ]
  },
  {
   "cell_type": "code",
   "execution_count": 28,
   "metadata": {},
   "outputs": [
    {
     "name": "stdout",
     "output_type": "stream",
     "text": [
      "[[  1.   1.   1. 251.]\n",
      " [  1.   1.   1. 251.]\n",
      " [  1.   1.   1. 251.]\n",
      " ...\n",
      " [  1.   1.   1. 251.]\n",
      " [  1.   1.   1. 251.]\n",
      " [  1.   1.   1. 251.]]\n"
     ]
    }
   ],
   "source": [
    "# initialize confidence matrix C\n",
    "# Cui = 1 + alpha * Rui\n",
    "# Cui means confidence level of certain rating data\n",
    "\n",
    "\n",
    "C = 1 + alpha * R\n",
    "print(C)"
   ]
  },
  {
   "cell_type": "markdown",
   "metadata": {},
   "source": [
    "## Train"
   ]
  },
  {
   "cell_type": "code",
   "execution_count": 29,
   "metadata": {},
   "outputs": [
    {
     "name": "stdout",
     "output_type": "stream",
     "text": [
      "----------------step 0----------------\n",
      "predict error: 995.148428\n",
      "confidence error: 233755.990118\n",
      "regularization: 167.121228\n",
      "total loss: 233923.111346\n",
      "----------------step 1----------------\n",
      "predict error: 292.764627\n",
      "confidence error: 3850.053780\n",
      "regularization: 5028.817665\n",
      "total loss: 8878.871445\n",
      "----------------step 2----------------\n",
      "predict error: 21.741009\n",
      "confidence error: 166.103482\n",
      "regularization: 5050.805578\n",
      "total loss: 5216.909060\n",
      "----------------step 3----------------\n",
      "predict error: 3.723549\n",
      "confidence error: 96.321313\n",
      "regularization: 4923.533921\n",
      "total loss: 5019.855234\n",
      "----------------step 4----------------\n",
      "predict error: 1.970742\n",
      "confidence error: 74.744762\n",
      "regularization: 4836.051468\n",
      "total loss: 4910.796231\n",
      "----------------step 5----------------\n",
      "predict error: 1.389497\n",
      "confidence error: 64.104931\n",
      "regularization: 4767.122823\n",
      "total loss: 4831.227754\n",
      "----------------step 6----------------\n",
      "predict error: 1.051427\n",
      "confidence error: 58.100574\n",
      "regularization: 4708.210337\n",
      "total loss: 4766.310911\n",
      "----------------step 7----------------\n",
      "predict error: 0.836237\n",
      "confidence error: 54.490082\n",
      "regularization: 4655.520116\n",
      "total loss: 4710.010199\n",
      "----------------step 8----------------\n",
      "predict error: 0.696867\n",
      "confidence error: 52.230601\n",
      "regularization: 4607.240883\n",
      "total loss: 4659.471484\n",
      "----------------step 9----------------\n",
      "predict error: 0.605810\n",
      "confidence error: 50.778407\n",
      "regularization: 4562.451765\n",
      "total loss: 4613.230173\n",
      "----------------step 10----------------\n",
      "predict error: 0.545875\n",
      "confidence error: 49.829075\n",
      "regularization: 4520.642884\n",
      "total loss: 4570.471959\n",
      "----------------step 11----------------\n",
      "predict error: 0.506141\n",
      "confidence error: 49.202982\n",
      "regularization: 4481.496900\n",
      "total loss: 4530.699882\n",
      "----------------step 12----------------\n",
      "predict error: 0.479608\n",
      "confidence error: 48.789774\n",
      "regularization: 4444.788464\n",
      "total loss: 4493.578239\n",
      "----------------step 13----------------\n",
      "predict error: 0.461756\n",
      "confidence error: 48.519495\n",
      "regularization: 4410.338029\n",
      "total loss: 4458.857523\n",
      "----------------step 14----------------\n",
      "predict error: 0.449649\n",
      "confidence error: 48.346697\n",
      "regularization: 4377.990821\n",
      "total loss: 4426.337518\n",
      "final predict\n",
      "[array([[9.75174816e-09, 4.39292329e-09, 1.00757184e-08, 9.96905313e-01],\n",
      "       [9.75174816e-09, 4.39292329e-09, 1.00757184e-08, 9.96905313e-01],\n",
      "       [9.75174816e-09, 4.39292329e-09, 1.00757184e-08, 9.96905313e-01],\n",
      "       ...,\n",
      "       [9.75174816e-09, 4.39292329e-09, 1.00757184e-08, 9.96905313e-01],\n",
      "       [9.75174816e-09, 4.39292329e-09, 1.00757184e-08, 9.96905313e-01],\n",
      "       [9.75174816e-09, 4.39292329e-09, 1.00757184e-08, 9.96905313e-01]])]\n"
     ]
    }
   ],
   "source": [
    "# in average ALS algorithm repeat train steps for 10 - 15 times\n",
    "\n",
    "predict_errors = []\n",
    "confidence_errors = []\n",
    "regularization_list = []\n",
    "total_losses = []\n",
    "\n",
    "for i in range(15):\n",
    "    if i!=0:   \n",
    "        optimize_user(X, Y, C, P, nu, nf, r_lambda)\n",
    "        optimize_item(X, Y, C, P, ni, nf, r_lambda)\n",
    "    predict = np.matmul(X, np.transpose(Y))\n",
    "    predict_error, confidence_error, regularization, total_loss = loss_function(C, P, predict, X, Y, r_lambda)\n",
    "    \n",
    "    predict_errors.append(predict_error)\n",
    "    confidence_errors.append(confidence_error)\n",
    "    regularization_list.append(regularization)\n",
    "    total_losses.append(total_loss)\n",
    "    \n",
    "    print('----------------step %d----------------' % i)\n",
    "    print(\"predict error: %f\" % predict_error)\n",
    "    print(\"confidence error: %f\" % confidence_error)\n",
    "    print(\"regularization: %f\" % regularization)\n",
    "    print(\"total loss: %f\" % total_loss)\n",
    "    \n",
    "predict = np.matmul(X, np.transpose(Y))\n",
    "print('final predict')\n",
    "print([predict])"
   ]
  },
  {
   "cell_type": "markdown",
   "metadata": {},
   "source": [
    "## Viz"
   ]
  },
  {
   "cell_type": "code",
   "execution_count": 30,
   "metadata": {},
   "outputs": [
    {
     "data": {
      "text/plain": [
       "<Figure size 432x288 with 0 Axes>"
      ]
     },
     "metadata": {},
     "output_type": "display_data"
    },
    {
     "data": {
      "image/png": "[encoded data removed]",
      "text/plain": [
       "<Figure size 720x720 with 4 Axes>"
      ]
     },
     "metadata": {
      "needs_background": "light"
     },
     "output_type": "display_data"
    }
   ],
   "source": [
    "plt.subplots_adjust(wspace=100.0, hspace=20.0)\n",
    "fig = plt.figure()\n",
    "fig.set_figheight(10)\n",
    "fig.set_figwidth(10)\n",
    "predict_error_line = fig.add_subplot(2, 2, 1)\n",
    "confidence_error_line = fig.add_subplot(2, 2, 2)\n",
    "regularization_error_line = fig.add_subplot(2, 2, 3)\n",
    "total_loss_line = fig.add_subplot(2, 2, 4)\n",
    "\n",
    "predict_error_line.set_title(\"Predict Error\") \n",
    "predict_error_line.plot(predict_errors)\n",
    "\n",
    "confidence_error_line.set_title(\"Confidence Error\")\n",
    "confidence_error_line.plot(confidence_errors)\n",
    "\n",
    "regularization_error_line.set_title(\"Regularization\")\n",
    "regularization_error_line.plot(regularization_list)\n",
    "\n",
    "total_loss_line.set_title(\"Total Loss\")\n",
    "total_loss_line.plot(total_losses)\n",
    "plt.show()"
   ]
  },
  {
   "cell_type": "code",
   "execution_count": null,
   "metadata": {},
   "outputs": [],
   "source": []
  }
 ],
 "metadata": {
  "kernelspec": {
   "display_name": "Python 3",
   "language": "python",
   "name": "python3"
  },
  "language_info": {
   "codemirror_mode": {
    "name": "ipython",
    "version": 3
   },
   "file_extension": ".py",
   "mimetype": "text/x-python",
   "name": "python",
   "nbconvert_exporter": "python",
   "pygments_lexer": "ipython3",
   "version": "3.8.6"
  }
 },
 "nbformat": 4,
 "nbformat_minor": 4
}
