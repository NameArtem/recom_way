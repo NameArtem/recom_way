{
 "cells": [
  {
   "cell_type": "code",
   "execution_count": 1,
   "metadata": {},
   "outputs": [],
   "source": [
    "import numpy as np\n",
    "import pandas as pd\n",
    "\n",
    "import seaborn as sns\n",
    "from matplotlib import pyplot as plt\n",
    "%matplotlib inline"
   ]
  },
  {
   "cell_type": "code",
   "execution_count": 5,
   "metadata": {},
   "outputs": [],
   "source": [
    "cols = ['goods_id', 'user_id', 'rating', 'ts']\n",
    "df = pd.read_csv('All_Beauty.csv', names = cols).head(1000)\n",
    "\n",
    "# R = pd.crosstab(index=df['user_id'],\n",
    "#                 columns=df['goods_id'],\n",
    "#                 values=df['rating'],\n",
    "#                 aggfunc='mean').fillna(0).values\n",
    "# print(R.shape)"
   ]
  },
  {
   "cell_type": "code",
   "execution_count": 8,
   "metadata": {},
   "outputs": [],
   "source": [
    "def getMatrix(df, index, column, rating):\n",
    "    '''\n",
    "    inputs: pd.DataFrame\n",
    "           index column name\n",
    "           columns column name\n",
    "           rating column name\n",
    "    :return: A, R user-item matrices\n",
    "    '''\n",
    "    A = df.pivot_table(columns=[column], index=[index], values=rating).fillna(0).values\n",
    "\n",
    "    print(\"'A' matrix shape is\", A.shape)\n",
    "\n",
    "    print(\"Getting 'R' Binary Matrix of rating or no rating...\")\n",
    "    R = A>0.5\n",
    "    R[R == True] = 1\n",
    "    R[R == False] = 0\n",
    "    R = R.astype(np.float64, copy=False)\n",
    "\n",
    "    return A, R\n",
    "\n",
    "\n",
    "def get_error(A, Users, Items, R):\n",
    "    # calculate the MSE of nonzero elements\n",
    "    return np.sum((R * (A - np.dot(Users, Items))) ** 2) / np.sum(R)\n",
    "    \n",
    "\n",
    "def calcALS(A, R, n_factors, n_iterations, lambda_):\n",
    "    '''\n",
    "    Runs Alternating Least Squares algorithm in order to calculate matrix.\n",
    "    \n",
    "    inputs: A: User-Item Matrix with ratings\n",
    "            R: User-Item Matrix with 1 if there is a rating or 0 if not\n",
    "            n_factors: How many factors each of user and item matrix will consider\n",
    "            n_iterations: How many times to run algorithm\n",
    "            lambda_: Regularization parameter\n",
    "    \n",
    "    :return:\n",
    "            None\n",
    "    '''\n",
    "    print(\"Initiating \")\n",
    "    lambda_ = 0.1\n",
    "    n_factors = A.shape[0]\n",
    "    n, m = A.shape\n",
    "    n_iterations = 15\n",
    "    \n",
    "    Users = 5 * np.random.rand(n, n_factors)\n",
    "    Items = 5 * np.random.rand(n_factors, m)\n",
    "\n",
    "\n",
    "    MSE_List = []\n",
    "\n",
    "    print(\"Starting Iterations\")\n",
    "    for iter in range(n_iterations):\n",
    "        \n",
    "        ###########################\n",
    "        # filter part\n",
    "        # add context as an another items here\n",
    "        ###########################\n",
    "        \n",
    "        for i, Ri in enumerate(R):\n",
    "            Users[i] = np.linalg.solve(np.dot(Items, \n",
    "                                              np.dot(np.diag(Ri), \n",
    "                                                     Items.T)) + lambda_ * np.eye(n_factors),\n",
    "                                       np.dot(Items, \n",
    "                                              np.dot(np.diag(Ri),\n",
    "                                                     A[i].T))).T\n",
    "            \n",
    "        print(\"Error after solving for User Matrix:\", get_error(A, Users, Items, R))\n",
    "\n",
    "        for j, Rj in enumerate(R.T):\n",
    "            Items[:,j] = np.linalg.solve(np.dot(Users.T,\n",
    "                                                np.dot(np.diag(Rj),\n",
    "                                                       Users)) + lambda_ * np.eye(n_factors),\n",
    "                                     np.dot(Users.T,\n",
    "                                            np.dot(np.diag(Rj),\n",
    "                                                   A[:, j])))\n",
    "            \n",
    "        print(\"Error after solving for Item Matrix:\", get_error(A, Users, Items, R))\n",
    "\n",
    "        MSE_List.append(get_error(A, Users, Items, R))\n",
    "        print('%sth iteration is complete...' % iter)\n",
    "\n",
    "    print(MSE_List)\n",
    "    fig = plt.figure()\n",
    "    ax = fig.add_subplot(111)\n",
    "    plt.plot(range(1, len(MSE_List) + 1), MSE_List); plt.ylabel('Error'); plt.xlabel('Iteration')\n",
    "    plt.title('Python Implementation MSE by Iteration \\n with %d users and %d items' % A.shape)\n",
    "    plt.show()"
   ]
  },
  {
   "cell_type": "code",
   "execution_count": 9,
   "metadata": {},
   "outputs": [
    {
     "name": "stdout",
     "output_type": "stream",
     "text": [
      "'A' matrix shape is (4, 1000)\n",
      "Getting 'R' Binary Matrix of rating or no rating...\n",
      "Initiating \n",
      "Starting Iterations\n",
      "Error after solving for User Matrix: 2.299229854524031\n",
      "Error after solving for Item Matrix: 0.30098258838283565\n",
      "0th iteration is complete...\n",
      "Error after solving for User Matrix: 1.3811508406494528e-06\n",
      "Error after solving for Item Matrix: 0.19336863995188328\n",
      "1th iteration is complete...\n",
      "Error after solving for User Matrix: 1.5814901002359579e-06\n",
      "Error after solving for Item Matrix: 0.13526195435164315\n",
      "2th iteration is complete...\n",
      "Error after solving for User Matrix: 1.7954333343664334e-06\n",
      "Error after solving for Item Matrix: 0.10015447972491746\n",
      "3th iteration is complete...\n",
      "Error after solving for User Matrix: 2.0225047054407876e-06\n",
      "Error after solving for Item Matrix: 0.07725660290326952\n",
      "4th iteration is complete...\n",
      "Error after solving for User Matrix: 2.2622144005807553e-06\n",
      "Error after solving for Item Matrix: 0.06146573171165025\n",
      "5th iteration is complete...\n",
      "Error after solving for User Matrix: 2.5140589118997806e-06\n",
      "Error after solving for Item Matrix: 0.05010227197720282\n",
      "6th iteration is complete...\n",
      "Error after solving for User Matrix: 2.777521906733164e-06\n",
      "Error after solving for Item Matrix: 0.04164502394724199\n",
      "7th iteration is complete...\n",
      "Error after solving for User Matrix: 3.0520754532948926e-06\n",
      "Error after solving for Item Matrix: 0.03517655057777734\n",
      "8th iteration is complete...\n",
      "Error after solving for User Matrix: 3.337181466111857e-06\n",
      "Error after solving for Item Matrix: 0.030116070115184725\n",
      "9th iteration is complete...\n",
      "Error after solving for User Matrix: 3.632293287054445e-06\n",
      "Error after solving for Item Matrix: 0.026081005184150248\n",
      "10th iteration is complete...\n",
      "Error after solving for User Matrix: 3.9368573461225695e-06\n",
      "Error after solving for Item Matrix: 0.022810819109790947\n",
      "11th iteration is complete...\n",
      "Error after solving for User Matrix: 4.250314862806311e-06\n",
      "Error after solving for Item Matrix: 0.02012300158307413\n",
      "12th iteration is complete...\n",
      "Error after solving for User Matrix: 4.572103559191124e-06\n",
      "Error after solving for Item Matrix: 0.017886554816958465\n",
      "13th iteration is complete...\n",
      "Error after solving for User Matrix: 4.901659362642763e-06\n",
      "Error after solving for Item Matrix: 0.016005444456460412\n",
      "14th iteration is complete...\n",
      "[0.30098258838283565, 0.19336863995188328, 0.13526195435164315, 0.10015447972491746, 0.07725660290326952, 0.06146573171165025, 0.05010227197720282, 0.04164502394724199, 0.03517655057777734, 0.030116070115184725, 0.026081005184150248, 0.022810819109790947, 0.02012300158307413, 0.017886554816958465, 0.016005444456460412]\n"
     ]
    },
    {
     "data": {
      "image/png": "[encoded data removed]",
      "text/plain": [
       "<Figure size 432x288 with 1 Axes>"
      ]
     },
     "metadata": {
      "needs_background": "light"
     },
     "output_type": "display_data"
    }
   ],
   "source": [
    "A, R = getMatrix(df, 'goods_id', 'user_id', 'rating')\n",
    "calcALS(A, R, n_factors = 3, n_iterations = 20, lambda_ = .1)"
   ]
  },
  {
   "cell_type": "code",
   "execution_count": null,
   "metadata": {},
   "outputs": [],
   "source": []
  },
  {
   "cell_type": "code",
   "execution_count": null,
   "metadata": {},
   "outputs": [],
   "source": []
  },
  {
   "cell_type": "code",
   "execution_count": null,
   "metadata": {},
   "outputs": [],
   "source": []
  },
  {
   "cell_type": "code",
   "execution_count": null,
   "metadata": {},
   "outputs": [],
   "source": []
  },
  {
   "cell_type": "code",
   "execution_count": null,
   "metadata": {},
   "outputs": [],
   "source": []
  }
 ],
 "metadata": {
  "kernelspec": {
   "display_name": "Python 3",
   "language": "python",
   "name": "python3"
  },
  "language_info": {
   "codemirror_mode": {
    "name": "ipython",
    "version": 3
   },
   "file_extension": ".py",
   "mimetype": "text/x-python",
   "name": "python",
   "nbconvert_exporter": "python",
   "pygments_lexer": "ipython3",
   "version": "3.8.6"
  }
 },
 "nbformat": 4,
 "nbformat_minor": 4
}
